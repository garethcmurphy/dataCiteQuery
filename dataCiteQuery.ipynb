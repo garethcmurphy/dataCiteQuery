{
 "cells": [
  {
   "cell_type": "code",
   "execution_count": 1,
   "metadata": {},
   "outputs": [
    {
     "name": "stdout",
     "output_type": "stream",
     "text": [
      "Martin Fenner\n"
     ]
    }
   ],
   "source": [
    "import pandas as pd\n",
    "from gql import gql, Client\n",
    "from gql.transport.requests import RequestsHTTPTransport\n",
    "\n",
    "_transport = RequestsHTTPTransport(\n",
    "    url='https://api.datacite.org/graphql',\n",
    "    use_json=True,\n",
    ")\n",
    "\n",
    "\n",
    "client = Client(\n",
    "    transport=_transport,\n",
    "    fetch_schema_from_transport=True,\n",
    ")\n",
    "query = gql( \"\"\"{\n",
    "   researcher(id: \"https://orcid.org/0000-0003-1419-2405\") {\n",
    "    id\n",
    "    name\n",
    "    publications(first: 50) {\n",
    "      totalCount\n",
    "      nodes {\n",
    "        id\n",
    "        relatedIdentifiers {\n",
    "          relatedIdentifier\n",
    "        }\n",
    "      }\n",
    "    }\n",
    "  }\n",
    "}\"\"\")\n",
    "data=client.execute(query)\n",
    "print(data[\"researcher\"][\"name\"])\n",
    "\n",
    "#print(data.researcher.name)"
   ]
  },
  {
   "cell_type": "code",
   "execution_count": 5,
   "metadata": {},
   "outputs": [
    {
     "name": "stdout",
     "output_type": "stream",
     "text": [
      "77\n"
     ]
    }
   ],
   "source": [
    "print(data[\"researcher\"][\"publications\"][\"totalCount\"])\n"
   ]
  },
  {
   "cell_type": "code",
   "execution_count": 32,
   "metadata": {},
   "outputs": [],
   "source": [
    "\n",
    "publications=pd.DataFrame(data[\"researcher\"][\"publications\"][\"nodes\"])\n"
   ]
  },
  {
   "cell_type": "code",
   "execution_count": 33,
   "metadata": {},
   "outputs": [],
   "source": [
    "mylist=publications['id'].tolist()\n",
    "catlist=\",\".join(mylist)\n",
    "\n",
    "import requests\n",
    "contents = requests.get(\n",
    "    \"https://api.datacite.org/dois?style=apa&page[size]=250&sort=created&ids=\"+catlist,\n",
    "    headers={'Accept': \"text/x-bibliography\"},\n",
    ")\n",
    "\n"
   ]
  },
  {
   "cell_type": "code",
   "execution_count": 34,
   "metadata": {},
   "outputs": [
    {
     "data": {
      "text/markdown": [
       "## Publications"
      ],
      "text/plain": [
       "<IPython.core.display.Markdown object>"
      ]
     },
     "metadata": {},
     "output_type": "display_data"
    },
    {
     "data": {
      "text/markdown": [],
      "text/plain": [
       "<IPython.core.display.Markdown object>"
      ]
     },
     "metadata": {},
     "output_type": "display_data"
    },
    {
     "name": "stdout",
     "output_type": "stream",
     "text": [
      "<Response [200]>\n"
     ]
    }
   ],
   "source": [
    "from IPython.display import display, Markdown, Latex\n",
    "display(Markdown('## Publications'))\n",
    "display(Markdown(contents.text))\n",
    "\n",
    "print(contents)\n"
   ]
  },
  {
   "cell_type": "code",
   "execution_count": null,
   "metadata": {},
   "outputs": [],
   "source": []
  }
 ],
 "metadata": {
  "kernelspec": {
   "display_name": "Python 3",
   "language": "python",
   "name": "python3"
  },
  "language_info": {
   "codemirror_mode": {
    "name": "ipython",
    "version": 3
   },
   "file_extension": ".py",
   "mimetype": "text/x-python",
   "name": "python",
   "nbconvert_exporter": "python",
   "pygments_lexer": "ipython3",
   "version": "3.7.3"
  }
 },
 "nbformat": 4,
 "nbformat_minor": 2
}
