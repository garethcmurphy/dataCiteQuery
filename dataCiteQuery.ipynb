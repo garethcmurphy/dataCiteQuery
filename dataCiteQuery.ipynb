{
 "cells": [
  {
   "cell_type": "code",
   "execution_count": 1,
   "metadata": {},
   "outputs": [
    {
     "name": "stdout",
     "output_type": "stream",
     "text": [
      "Martin Fenner\n"
     ]
    }
   ],
   "source": [
    "import pandas as pd\n",
    "from gql import gql, Client\n",
    "from gql.transport.requests import RequestsHTTPTransport\n",
    "\n",
    "_transport = RequestsHTTPTransport(\n",
    "    url='https://api.datacite.org/graphql',\n",
    "    use_json=True,\n",
    ")\n",
    "\n",
    "\n",
    "client = Client(\n",
    "    transport=_transport,\n",
    "    fetch_schema_from_transport=True,\n",
    ")\n",
    "query = gql( \"\"\"{\n",
    "   researcher(id: \"https://orcid.org/0000-0003-1419-2405\") {\n",
    "    id\n",
    "    name\n",
    "    publications(first: 50) {\n",
    "      totalCount\n",
    "      nodes {\n",
    "        id\n",
    "        relatedIdentifiers {\n",
    "          relatedIdentifier\n",
    "        }\n",
    "      }\n",
    "    }\n",
    "  }\n",
    "}\"\"\")\n",
    "data=client.execute(query)\n",
    "print(data[\"researcher\"][\"name\"])\n",
    "\n",
    "#print(data.researcher.name)"
   ]
  },
  {
   "cell_type": "code",
   "execution_count": 5,
   "metadata": {},
   "outputs": [
    {
     "name": "stdout",
     "output_type": "stream",
     "text": [
      "77\n"
     ]
    }
   ],
   "source": [
    "print(data[\"researcher\"][\"publications\"][\"totalCount\"])\n"
   ]
  },
  {
   "cell_type": "code",
   "execution_count": 32,
   "metadata": {},
   "outputs": [],
   "source": [
    "\n",
    "publications=pd.DataFrame(data[\"researcher\"][\"publications\"][\"nodes\"])\n"
   ]
  },
  {
   "cell_type": "code",
   "execution_count": 45,
   "metadata": {},
   "outputs": [],
   "source": [
    "mylist=publications['id'].map(lambda x: x[16:])\n",
    "catlist=\",\".join(mylist)\n",
    "\n",
    "\n",
    "\n"
   ]
  },
  {
   "cell_type": "code",
   "execution_count": 42,
   "metadata": {},
   "outputs": [],
   "source": [
    "import requests\n",
    "contents = requests.get(\n",
    "    \"https://api.datacite.org/dois?style=apa&page[size]=250&sort=created&ids=\"+catlist,\n",
    "    headers={'Accept': \"text/x-bibliography\"},\n",
    ")"
   ]
  },
  {
   "cell_type": "code",
   "execution_count": 44,
   "metadata": {},
   "outputs": [
    {
     "data": {
      "text/markdown": [
       "## Publications"
      ],
      "text/plain": [
       "<IPython.core.display.Markdown object>"
      ]
     },
     "metadata": {},
     "output_type": "display_data"
    },
    {
     "data": {
      "text/markdown": [
       "ODIN Consortium, Fenner, M., &amp; Thorisson, G. (2013). D2.2 Kickoff report. <i>Figshare</i>. https://doi.org/10.6084/M9.FIGSHARE.107019\n",
       "\n",
       "ODIN Consortium, Thorisson, G., &amp; Fenner, M. (2013). D2.1 Kick off preparation, Communication plan and Website. <i>Figshare</i>. https://doi.org/10.6084/M9.FIGSHARE.154691\n",
       "\n",
       "Friesike, S., &amp; Fenner, M. (2014). Schreiben. https://doi.org/10.2314/COSCV1.4\n",
       "\n",
       "Arning, U., Bargheer, M., Blümel, I., Dietze, S., Fenner, M., Friesike, S., … Tullney, M. (2015). CoScience - Gemeinsam forschen und publizieren mit dem Netz. <i>Technische Informationsbibliothek (TIB), Hannover</i>. https://doi.org/10.2314/COSCV2\n",
       "\n",
       "Friesike, S., &amp; Fenner, M. (2015). Schreiben. https://doi.org/10.2314/COSCV2.4\n",
       "\n",
       "ODIN Consortium, Thorisson, G., &amp; Fenner, M. (2013). D2.1 Kick off preparation, Communication plan and Website. <i>Figshare</i>. https://doi.org/10.6084/M9.FIGSHARE.154691.V1\n",
       "\n",
       "ODIN Consortium, Fenner, M., &amp; Thorisson, G. (2013). D2.2 Kickoff report. <i>Figshare</i>. https://doi.org/10.6084/M9.FIGSHARE.107019.V4\n",
       "\n",
       "Fenner, M., Paglione, L., Demeranville, T., &amp; Bilder, G. (2016). <i>Technical Considerations for an Organization Identifier Registry</i>. ORCID. https://doi.org/10.5438/7885\n",
       "\n",
       "Fenner, M. (2015). From Pilot to Service. <i>DataCite Blog</i>. https://doi.org/10.5438/S8GF-0CK9\n",
       "\n",
       "Fenner, M. (2015). Reference Lists and Tables of Content. https://doi.org/10.5438/5AEG-WEEV\n",
       "\n",
       "Fenner, M. (2015). Auto-Update Has Arrived! https://doi.org/10.5438/FERW-CWHQ\n",
       "\n",
       "Fenner, M., &amp; Garza, K. (2016). Announcing Our New Application Developer. https://doi.org/10.5438/Y131-YX9D\n",
       "\n",
       "Fenner, M. (2016). Cool DOI's. https://doi.org/10.5438/55E5-T5C0\n",
       "\n",
       "Fenner, M. (2015). Persistent Identifiers: Enabling Services for Data Intensive Research. <i>DataCite</i>. https://doi.org/10.5438/JM9F-325F\n",
       "\n",
       "Fenner, M. (2015). Discussing the Scholarly Container. https://doi.org/10.5438/D9EQ-9DGA\n",
       "\n",
       "Fenner, M. (2015). Announcing the DataCite Blog Relaunch. https://doi.org/10.5438/XCBJ-G7ZY\n",
       "\n",
       "Fenner, M. (2016). Thinking about CSV. <i>DataCite Blog</i>. https://doi.org/10.5438/4QX3-RP8Y\n",
       "\n",
       "Fenner, M. (2015). Using YAML Frontmatter with CSV. https://doi.org/10.5438/5HZJ-5KDS\n",
       "\n",
       "Fenner, M. (2015). Thoughts on the Research Data Alliance 6th Plenary. <i>DataCite Blog</i>. https://doi.org/10.5438/7RXD-S8A3\n",
       "\n",
       "Fenner, M. (2016). Data catalog cards: simplifying article/data linking. https://doi.org/10.5438/CAB5-TEG0\n",
       "\n",
       "Fenner, M. (2015). Announcing Data-Level Metrics in DataCite Labs. <i>DataCite Blog</i>. https://doi.org/10.5438/JZG5-VCQV\n",
       "\n",
       "Fenner, M. (2016). Announcing the Organization Identifier Project: a Way Forward. https://doi.org/10.5438/TNHX-54CG\n",
       "\n",
       "Fenner, M. (2016). Dynamic Data Citation Webinar. https://doi.org/10.5438/Y4KS-KSBC\n",
       "\n",
       "Fenner, M. (2015). Happy Birthday ORCID. https://doi.org/10.5438/C61Q-Z2K7\n",
       "\n",
       "Fenner, M. (2015). Explaining the DataCite/ORCID Auto-update. https://doi.org/10.5438/3DFW-Z4KQ\n",
       "\n",
       "Fenner, M. (2016). Launching the DataCite Status Page. https://doi.org/10.5438/YHCJ-P5HR\n",
       "\n",
       "Fenner, M. (2016). DataCite is Hiring an Application Developer. <i>DataCite Blog</i>. https://doi.org/10.5438/MSK0-15R2\n",
       "\n",
       "Fenner, M. (2016). Relaunching DataCite Search. https://doi.org/10.5438/VQ2T-VR4K\n",
       "\n",
       "Fenner, M. (2016). We were out in Force. https://doi.org/10.5438/C3BY-VYZS\n",
       "\n",
       "Fenner, M. (2016). Mysteries in Reference Lists. https://doi.org/10.5438/CT8B-X1CE\n",
       "\n",
       "Paglione, L., Rodgers, R., Brand, A., Dolby, K., Fenner, M., Haak, L., … Weinberger, D. (2017). Recommendation of: ORCID Works Metadata Working Group. <i>Figshare</i>. https://doi.org/10.23640/07243.5153971\n",
       "\n",
       "Paglione, L., Rodgers, R., Brand, A., Dolby, K., Fenner, M., Haak, L., … Weinberger, D. (2017). Recommendation of: ORCID Works Metadata Working Group. <i>Figshare</i>. https://doi.org/10.23640/07243.5153971.V1\n",
       "\n",
       "Laurel, H., Bilder, G., Brown, C., Cruse, P., Devenport, T., Fenner, M., … Smith, A. (2017). ORG ID WG Product Principles and Recommendations. <i>Figshare</i>. https://doi.org/10.23640/07243.5402047.V1\n",
       "\n",
       "Laurel, H., Bilder, G., Brown, C., Cruse, P., Devenport, T., Fenner, M., … Smith, A. (2017). ORG ID WG Product Principles and Recommendations. <i>Figshare</i>. https://doi.org/10.23640/07243.5402047\n",
       "\n",
       "Burton, A., Fenner, M., Haak, W., Koers, H., &amp; Manghi, P. (2016). Scholix Metadata Schema For Exchange Of Scholarly Communication Links. <i>Zenodo</i>. https://doi.org/10.5281/ZENODO.1120249\n",
       "\n",
       "Burton, A., Fenner, M., Haak, W., Koers, H., &amp; Manghi, P. (2016). Scholix Metadata Schema For Exchange Of Scholarly Communication Links. <i>Zenodo</i>. https://doi.org/10.5281/ZENODO.1120248\n",
       "\n",
       "Burton, A., Fenner, M., Haak, W., &amp; Manghi, P. (2017). Scholix Metadata Schema For Exchange Of Scholarly Communication Links. <i>Zenodo</i>. https://doi.org/10.5281/ZENODO.1120261\n",
       "\n",
       "Burton, A., Fenner, M., Haak, W., &amp; Manghi, P. (2017). Scholix Metadata Schema For Exchange Of Scholarly Communication Links. <i>Zenodo</i>. https://doi.org/10.5281/ZENODO.1120265\n",
       "\n",
       "Rous, B., Altman, M., Brand, A., Bilder, G., Ewenstein, J., Fenner, M., … Warner, S. (2018). Committee: ORCID Privacy Committee. <i>Figshare</i>. https://doi.org/10.23640/07243.5984974\n",
       "\n",
       "Meadows, A., Carroll, J., Baynes, G., Biddle, A., Brown, J., Casey, K., … Priyan Weerappuli. (2018). Steering Group: ORCID Communications. <i>Figshare</i>. https://doi.org/10.23640/07243.5985004.V1\n",
       "\n",
       "Fenner, M., &amp; Hallett, R. (2018). Welcome to the DataCite Team, Richard! https://doi.org/10.5438/PRVV-NV23\n",
       "\n",
       "Fenner, M. (2016). Publishing tabular data as blog post. https://doi.org/10.5438/1Z7J-H7VW\n",
       "\n",
       "Fenner, M. (2015). Data-Driven Development. https://doi.org/10.5438/DHSM-8219\n",
       "\n",
       "Vierkant, P., Pampel, H., Elger, K., Kindling, M., Ulrich, R., Witt, M., &amp; Fenner, M. (2018). Status Quo And Perspective Of Re3Data. <i>Zenodo</i>. https://doi.org/10.5281/ZENODO.1297432\n",
       "\n",
       "Vierkant, P., Pampel, H., Elger, K., Kindling, M., Ulrich, R., Witt, M., &amp; Fenner, M. (2018). Status Quo And Perspective Of Re3Data. <i>Zenodo</i>. https://doi.org/10.5281/ZENODO.1297431\n",
       "\n",
       "Cousijn, H., Cruse, P., &amp; Fenner, M. (2018). Taking discoverability to the next level: datasets with DataCite DOIs can now be found through Google Dataset Search. <i>DataCite Blog</i>. https://doi.org/10.5438/5AEP-2N86\n",
       "\n",
       "Noy, N., Cousijn, H., Hirsch, M., &amp; Fenner, M. (2018). Google Dataset Search Webinar - everything you always wanted to know about Google Dataset Search. <i>DataCite Blog</i>. https://doi.org/10.5438/4SDJ-HF49\n",
       "\n",
       "Fenner, M. (2018). Introducing DataCite JSON. https://doi.org/10.5438/1PCA-1Y05\n",
       "\n",
       "Ferguson, C., McEntyre, J., Hendricks, G., Dohna, T., Koop-Jakobsen, K., Madden, F., … Fenner, M. (2019). <i>Deliverable D3.2 Requirements for Selected New PID Services</i>. Zenodo. https://doi.org/10.5281/ZENODO.2649230\n",
       "\n",
       "Ferguson, C., McEntyre, J., Hendricks, G., Dohna, T., Koop-Jakobsen, K., Madden, F., … Fenner, M. (2019). <i>Deliverable D3.2 Requirements for Selected New PID Services</i>. Zenodo. https://doi.org/10.5281/ZENODO.2649229"
      ],
      "text/plain": [
       "<IPython.core.display.Markdown object>"
      ]
     },
     "metadata": {},
     "output_type": "display_data"
    }
   ],
   "source": [
    "from IPython.display import display, Markdown, Latex\n",
    "display(Markdown('## Publications'))\n",
    "display(Markdown(contents.text))\n",
    "\n"
   ]
  },
  {
   "cell_type": "code",
   "execution_count": null,
   "metadata": {},
   "outputs": [],
   "source": []
  }
 ],
 "metadata": {
  "kernelspec": {
   "display_name": "Python 3",
   "language": "python",
   "name": "python3"
  },
  "language_info": {
   "codemirror_mode": {
    "name": "ipython",
    "version": 3
   },
   "file_extension": ".py",
   "mimetype": "text/x-python",
   "name": "python",
   "nbconvert_exporter": "python",
   "pygments_lexer": "ipython3",
   "version": "3.7.3"
  }
 },
 "nbformat": 4,
 "nbformat_minor": 2
}
