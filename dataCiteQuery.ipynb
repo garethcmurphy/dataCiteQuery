{
 "cells": [
  {
   "cell_type": "code",
   "execution_count": 46,
   "metadata": {},
   "outputs": [
    {
     "name": "stdout",
     "output_type": "stream",
     "text": [
      "Martin Fenner\n"
     ]
    }
   ],
   "source": [
    "import pandas as pd\n",
    "from gql import gql, Client\n",
    "from gql.transport.requests import RequestsHTTPTransport\n",
    "\n",
    "_transport = RequestsHTTPTransport(\n",
    "    url='https://api.datacite.org/graphql',\n",
    "    use_json=True,\n",
    ")\n",
    "\n",
    "\n",
    "client = Client(\n",
    "    transport=_transport,\n",
    "    fetch_schema_from_transport=True,\n",
    ")\n",
    "query = gql( \"\"\"{\n",
    "   researcher(id: \"https://orcid.org/0000-0003-1419-2405\") {\n",
    "    id\n",
    "    name\n",
    "    publications(first: 50) {\n",
    "      totalCount\n",
    "      nodes {\n",
    "        id\n",
    "        relatedIdentifiers {\n",
    "          relatedIdentifier\n",
    "        }\n",
    "      }\n",
    "    }\n",
    "  }\n",
    "}\"\"\")\n",
    "data=client.execute(query)\n",
    "print(data[\"researcher\"][\"name\"])\n",
    "\n",
    "#print(data.researcher.name)"
   ]
  },
  {
   "cell_type": "code",
   "execution_count": 47,
   "metadata": {},
   "outputs": [
    {
     "name": "stdout",
     "output_type": "stream",
     "text": [
      "77\n"
     ]
    }
   ],
   "source": [
    "print(data[\"researcher\"][\"publications\"][\"totalCount\"])\n"
   ]
  },
  {
   "cell_type": "code",
   "execution_count": 48,
   "metadata": {},
   "outputs": [],
   "source": [
    "\n",
    "publications=pd.DataFrame(data[\"researcher\"][\"publications\"][\"nodes\"])\n"
   ]
  },
  {
   "cell_type": "code",
   "execution_count": 57,
   "metadata": {},
   "outputs": [],
   "source": [
    "mylist=publications['id'].map(lambda x: x[16:])\n",
    "catlist=\",\".join(mylist[1:20])\n",
    "\n",
    "\n",
    "\n"
   ]
  },
  {
   "cell_type": "code",
   "execution_count": 58,
   "metadata": {},
   "outputs": [],
   "source": [
    "import requests\n",
    "contents = requests.get(\n",
    "    \"https://api.datacite.org/dois?style=apa&page[size]=250&sort=created&ids=\"+catlist,\n",
    "    headers={'Accept': \"text/x-bibliography\"},\n",
    ")"
   ]
  },
  {
   "cell_type": "code",
   "execution_count": 59,
   "metadata": {},
   "outputs": [
    {
     "data": {
      "text/markdown": [
       "## Publications"
      ],
      "text/plain": [
       "<IPython.core.display.Markdown object>"
      ]
     },
     "metadata": {},
     "output_type": "display_data"
    },
    {
     "data": {
      "text/markdown": [
       "ODIN Consortium, Fenner, M., &amp; Thorisson, G. (2013). D2.2 Kickoff report. <i>Figshare</i>. https://doi.org/10.6084/M9.FIGSHARE.107019\n",
       "\n",
       "ODIN Consortium, Thorisson, G., &amp; Fenner, M. (2013). D2.1 Kick off preparation, Communication plan and Website. <i>Figshare</i>. https://doi.org/10.6084/M9.FIGSHARE.154691.V1\n",
       "\n",
       "ODIN Consortium, Fenner, M., &amp; Thorisson, G. (2013). D2.2 Kickoff report. <i>Figshare</i>. https://doi.org/10.6084/M9.FIGSHARE.107019.V4\n",
       "\n",
       "Fenner, M. (2015). Announcing the DataCite Blog Relaunch. https://doi.org/10.5438/XCBJ-G7ZY\n",
       "\n",
       "Fenner, M. (2015). Using YAML Frontmatter with CSV. https://doi.org/10.5438/5HZJ-5KDS\n",
       "\n",
       "Fenner, M. (2015). Announcing Data-Level Metrics in DataCite Labs. <i>DataCite Blog</i>. https://doi.org/10.5438/JZG5-VCQV\n",
       "\n",
       "Fenner, M. (2015). Happy Birthday ORCID. https://doi.org/10.5438/C61Q-Z2K7\n",
       "\n",
       "Paglione, L., Rodgers, R., Brand, A., Dolby, K., Fenner, M., Haak, L., … Weinberger, D. (2017). Recommendation of: ORCID Works Metadata Working Group. <i>Figshare</i>. https://doi.org/10.23640/07243.5153971.V1\n",
       "\n",
       "Laurel, H., Bilder, G., Brown, C., Cruse, P., Devenport, T., Fenner, M., … Smith, A. (2017). ORG ID WG Product Principles and Recommendations. <i>Figshare</i>. https://doi.org/10.23640/07243.5402047\n",
       "\n",
       "Burton, A., Fenner, M., Haak, W., Koers, H., &amp; Manghi, P. (2016). Scholix Metadata Schema For Exchange Of Scholarly Communication Links. <i>Zenodo</i>. https://doi.org/10.5281/ZENODO.1120249\n",
       "\n",
       "Burton, A., Fenner, M., Haak, W., Koers, H., &amp; Manghi, P. (2016). Scholix Metadata Schema For Exchange Of Scholarly Communication Links. <i>Zenodo</i>. https://doi.org/10.5281/ZENODO.1120248\n",
       "\n",
       "Burton, A., Fenner, M., Haak, W., &amp; Manghi, P. (2017). Scholix Metadata Schema For Exchange Of Scholarly Communication Links. <i>Zenodo</i>. https://doi.org/10.5281/ZENODO.1120261\n",
       "\n",
       "Burton, A., Fenner, M., Haak, W., &amp; Manghi, P. (2017). Scholix Metadata Schema For Exchange Of Scholarly Communication Links. <i>Zenodo</i>. https://doi.org/10.5281/ZENODO.1120265\n",
       "\n",
       "Meadows, A., Carroll, J., Baynes, G., Biddle, A., Brown, J., Casey, K., … Priyan Weerappuli. (2018). Steering Group: ORCID Communications. <i>Figshare</i>. https://doi.org/10.23640/07243.5985004.V1\n",
       "\n",
       "Fenner, M., &amp; Hallett, R. (2018). Welcome to the DataCite Team, Richard! https://doi.org/10.5438/PRVV-NV23\n",
       "\n",
       "Vierkant, P., Pampel, H., Elger, K., Kindling, M., Ulrich, R., Witt, M., &amp; Fenner, M. (2018). Status Quo And Perspective Of Re3Data. <i>Zenodo</i>. https://doi.org/10.5281/ZENODO.1297432\n",
       "\n",
       "Vierkant, P., Pampel, H., Elger, K., Kindling, M., Ulrich, R., Witt, M., &amp; Fenner, M. (2018). Status Quo And Perspective Of Re3Data. <i>Zenodo</i>. https://doi.org/10.5281/ZENODO.1297431\n",
       "\n",
       "Ferguson, C., McEntyre, J., Hendricks, G., Dohna, T., Koop-Jakobsen, K., Madden, F., … Fenner, M. (2019). <i>Deliverable D3.2 Requirements for Selected New PID Services</i>. Zenodo. https://doi.org/10.5281/ZENODO.2649230\n",
       "\n",
       "Ferguson, C., McEntyre, J., Hendricks, G., Dohna, T., Koop-Jakobsen, K., Madden, F., … Fenner, M. (2019). <i>Deliverable D3.2 Requirements for Selected New PID Services</i>. Zenodo. https://doi.org/10.5281/ZENODO.2649229"
      ],
      "text/plain": [
       "<IPython.core.display.Markdown object>"
      ]
     },
     "metadata": {},
     "output_type": "display_data"
    }
   ],
   "source": [
    "from IPython.display import display, Markdown, Latex\n",
    "display(Markdown('## Publications'))\n",
    "display(Markdown(contents.text))\n",
    "\n"
   ]
  },
  {
   "cell_type": "code",
   "execution_count": null,
   "metadata": {},
   "outputs": [],
   "source": []
  }
 ],
 "metadata": {
  "kernelspec": {
   "display_name": "Python 3",
   "language": "python",
   "name": "python3"
  },
  "language_info": {
   "codemirror_mode": {
    "name": "ipython",
    "version": 3
   },
   "file_extension": ".py",
   "mimetype": "text/x-python",
   "name": "python",
   "nbconvert_exporter": "python",
   "pygments_lexer": "ipython3",
   "version": "3.7.3"
  }
 },
 "nbformat": 4,
 "nbformat_minor": 2
}
